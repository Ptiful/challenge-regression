{
 "cells": [
  {
   "cell_type": "code",
   "execution_count": null,
   "metadata": {},
   "outputs": [],
   "source": [
    "import numpy as np\n",
    "import pandas as pd\n",
    "import matplotlib.pyplot as plt\n",
    "from sklearn import linear_model\n",
    "from sklearn.model_selection import train_test_split\n",
    "\n",
    "\n",
    "# importer\n",
    "df =pd.read_csv(\"../data/cleaned_data.csv\")\n",
    "# Selecting parameters to train our price prediction on\n",
    "df_selection = df[[ \n",
    "    \"price\",              \n",
    "    \"living_area\",\n",
    "    \"building_type\",          \n",
    "    \"terrace\",             \n",
    "    \"garden\",              \n",
    "    \"swimming_pool\",       \n",
    "    \"energy_class\",\n",
    "    \"municipality\",\n",
    "    \"province\"]]\n",
    "\n",
    "#df_selection = df_selection.replace([\"apartment\", \"house\"], [0, 1])\n",
    "#Switching price to log_price\n",
    "\n",
    "\n",
    "#Dropping missing values in living_area and price\n",
    "df_selection = df_selection.dropna(subset=[\"living_area\", \"price\"])\n",
    "df_selection['log_price'] = df_selection['price'].apply(np.log10)\n",
    "df_selection = df_selection.drop(columns = ['price'])\n",
    "#Fill missing values in swimming_pool with zeros.\n",
    "df_selection[\"swimming_pool\"] = df_selection[\"swimming_pool\"].fillna(0)\n",
    "\n",
    "\n",
    "df_municipality = pd.get_dummies(df_selection[['municipality']])\n",
    "df_province = pd.get_dummies(df_selection[['province']])\n",
    "\n",
    "X = pd.concat([df_selection[[\"living_area\",       \n",
    "    \"terrace\",             \n",
    "    \"garden\",              \n",
    "    \"swimming_pool\",       \n",
    "    \"energy_class\"]], df_municipality, df_province], axis=1)\n",
    "y = df_selection['log_price']\n",
    "\n",
    "X_train, X_test, y_train, y_test = train_test_split(X, y, test_size = 0.2)\n",
    "\n",
    "regr = linear_model.LinearRegression()\n",
    "regr.fit(X_train, y_train)\n",
    "\n",
    "y_pred = regr.predict(X_test)\n",
    "\n",
    "y_pred_full = 10**y_pred\n",
    "y_test_full = 10**y_test\n",
    "\n",
    "df_preds = pd.DataFrame({'Actual': y_test_full.squeeze(), 'Predicted': y_pred_full.squeeze()})\n",
    "print(df_preds)\n",
    "\n"
   ]
  },
  {
   "cell_type": "code",
   "execution_count": null,
   "metadata": {},
   "outputs": [],
   "source": [
    "from sklearn import metrics\n",
    "\n",
    "print('R²:', metrics.r2_score(y_test, y_pred))"
   ]
  }
 ],
 "metadata": {
  "language_info": {
   "name": "python"
  },
  "orig_nbformat": 4
 },
 "nbformat": 4,
 "nbformat_minor": 2
}
