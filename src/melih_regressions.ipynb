{
 "cells": [
  {
   "cell_type": "code",
<<<<<<< HEAD
   "execution_count": 10,
=======
   "execution_count": 2,
>>>>>>> 9a018bfa6935622381fffceb20997b3f948acda7
   "metadata": {},
   "outputs": [],
   "source": [
    "import pandas as pd\n",
    "import matplotlib.pyplot as plt\n",
    "import numpy as np\n",
    "import seaborn as sns "
   ]
  },
  {
   "cell_type": "code",
<<<<<<< HEAD
   "execution_count": 11,
=======
   "execution_count": 3,
>>>>>>> 9a018bfa6935622381fffceb20997b3f948acda7
   "metadata": {},
   "outputs": [
    {
     "data": {
      "text/html": [
       "<div>\n",
       "<style scoped>\n",
       "    .dataframe tbody tr th:only-of-type {\n",
       "        vertical-align: middle;\n",
       "    }\n",
       "\n",
       "    .dataframe tbody tr th {\n",
       "        vertical-align: top;\n",
       "    }\n",
       "\n",
       "    .dataframe thead th {\n",
       "        text-align: right;\n",
       "    }\n",
       "</style>\n",
       "<table border=\"1\" class=\"dataframe\">\n",
       "  <thead>\n",
       "    <tr style=\"text-align: right;\">\n",
       "      <th></th>\n",
       "      <th>id</th>\n",
       "      <th>building_type</th>\n",
       "      <th>building_subtype</th>\n",
       "      <th>price</th>\n",
       "      <th>living_area</th>\n",
       "      <th>frontages</th>\n",
       "      <th>bedrooms</th>\n",
       "      <th>bathrooms</th>\n",
       "      <th>liv_room_surf</th>\n",
       "      <th>kitchen_type</th>\n",
       "      <th>...</th>\n",
       "      <th>swimming_pool</th>\n",
       "      <th>status_build</th>\n",
       "      <th>furnished</th>\n",
       "      <th>energy_class</th>\n",
       "      <th>heating</th>\n",
       "      <th>flood_zone</th>\n",
       "      <th>surroundings</th>\n",
       "      <th>zipcode</th>\n",
       "      <th>municipality</th>\n",
       "      <th>province</th>\n",
       "    </tr>\n",
       "  </thead>\n",
       "  <tbody>\n",
       "    <tr>\n",
       "      <th>0</th>\n",
       "      <td>10567498</td>\n",
       "      <td>apartment</td>\n",
       "      <td>apartment</td>\n",
       "      <td>730000.0</td>\n",
       "      <td>212.0</td>\n",
       "      <td>3.0</td>\n",
       "      <td>4.0</td>\n",
       "      <td>2.0</td>\n",
       "      <td>60.0</td>\n",
       "      <td>1.0</td>\n",
       "      <td>...</td>\n",
       "      <td>0.0</td>\n",
       "      <td>2.0</td>\n",
       "      <td>0.0</td>\n",
       "      <td>2.0</td>\n",
       "      <td>Gas</td>\n",
       "      <td>NaN</td>\n",
       "      <td>Isolated</td>\n",
       "      <td>1050</td>\n",
       "      <td>Ixelles</td>\n",
       "      <td>Brussels Capital Region</td>\n",
       "    </tr>\n",
       "    <tr>\n",
       "      <th>1</th>\n",
       "      <td>10567435</td>\n",
       "      <td>apartment</td>\n",
       "      <td>loft</td>\n",
       "      <td>775000.0</td>\n",
       "      <td>258.0</td>\n",
       "      <td>2.0</td>\n",
       "      <td>2.0</td>\n",
       "      <td>1.0</td>\n",
       "      <td>NaN</td>\n",
       "      <td>3.0</td>\n",
       "      <td>...</td>\n",
       "      <td>NaN</td>\n",
       "      <td>2.0</td>\n",
       "      <td>1.0</td>\n",
       "      <td>7.0</td>\n",
       "      <td>Gas</td>\n",
       "      <td>Non flood zone</td>\n",
       "      <td>NaN</td>\n",
       "      <td>3020</td>\n",
       "      <td>Winksele</td>\n",
       "      <td>Flemish Brabant</td>\n",
       "    </tr>\n",
       "    <tr>\n",
       "      <th>2</th>\n",
       "      <td>10557731</td>\n",
       "      <td>apartment</td>\n",
       "      <td>apartment</td>\n",
       "      <td>99000.0</td>\n",
       "      <td>94.0</td>\n",
       "      <td>4.0</td>\n",
       "      <td>2.0</td>\n",
       "      <td>1.0</td>\n",
       "      <td>34.0</td>\n",
       "      <td>1.0</td>\n",
       "      <td>...</td>\n",
       "      <td>0.0</td>\n",
       "      <td>2.0</td>\n",
       "      <td>0.0</td>\n",
       "      <td>3.0</td>\n",
       "      <td>Gas</td>\n",
       "      <td>Non flood zone</td>\n",
       "      <td>Urban</td>\n",
       "      <td>4820</td>\n",
       "      <td>Dison</td>\n",
       "      <td>Liège</td>\n",
       "    </tr>\n",
       "    <tr>\n",
       "      <th>3</th>\n",
       "      <td>10567501</td>\n",
       "      <td>apartment</td>\n",
       "      <td>apartment</td>\n",
       "      <td>730000.0</td>\n",
       "      <td>212.0</td>\n",
       "      <td>3.0</td>\n",
       "      <td>4.0</td>\n",
       "      <td>2.0</td>\n",
       "      <td>60.0</td>\n",
       "      <td>1.0</td>\n",
       "      <td>...</td>\n",
       "      <td>0.0</td>\n",
       "      <td>2.0</td>\n",
       "      <td>0.0</td>\n",
       "      <td>2.0</td>\n",
       "      <td>Gas</td>\n",
       "      <td>NaN</td>\n",
       "      <td>Isolated</td>\n",
       "      <td>1060</td>\n",
       "      <td>Saint-Gilles</td>\n",
       "      <td>Brussels Capital Region</td>\n",
       "    </tr>\n",
       "    <tr>\n",
       "      <th>4</th>\n",
       "      <td>10557727</td>\n",
       "      <td>apartment</td>\n",
       "      <td>apartment</td>\n",
       "      <td>219000.0</td>\n",
       "      <td>111.0</td>\n",
       "      <td>2.0</td>\n",
       "      <td>3.0</td>\n",
       "      <td>1.0</td>\n",
       "      <td>30.0</td>\n",
       "      <td>1.0</td>\n",
       "      <td>...</td>\n",
       "      <td>0.0</td>\n",
       "      <td>2.0</td>\n",
       "      <td>0.0</td>\n",
       "      <td>6.0</td>\n",
       "      <td>Gas</td>\n",
       "      <td>Non flood zone</td>\n",
       "      <td>Isolated</td>\n",
       "      <td>4680</td>\n",
       "      <td>Oupeye</td>\n",
       "      <td>Liège</td>\n",
       "    </tr>\n",
       "  </tbody>\n",
       "</table>\n",
       "<p>5 rows × 26 columns</p>\n",
       "</div>"
      ],
      "text/plain": [
       "         id building_type building_subtype     price  living_area  frontages   \n",
       "0  10567498     apartment        apartment  730000.0        212.0        3.0  \\\n",
       "1  10567435     apartment             loft  775000.0        258.0        2.0   \n",
       "2  10557731     apartment        apartment   99000.0         94.0        4.0   \n",
       "3  10567501     apartment        apartment  730000.0        212.0        3.0   \n",
       "4  10557727     apartment        apartment  219000.0        111.0        2.0   \n",
       "\n",
       "   bedrooms  bathrooms  liv_room_surf  kitchen_type  ...  swimming_pool   \n",
       "0       4.0        2.0           60.0           1.0  ...            0.0  \\\n",
       "1       2.0        1.0            NaN           3.0  ...            NaN   \n",
       "2       2.0        1.0           34.0           1.0  ...            0.0   \n",
       "3       4.0        2.0           60.0           1.0  ...            0.0   \n",
       "4       3.0        1.0           30.0           1.0  ...            0.0   \n",
       "\n",
       "   status_build  furnished  energy_class  heating      flood_zone   \n",
       "0           2.0        0.0           2.0      Gas             NaN  \\\n",
       "1           2.0        1.0           7.0      Gas  Non flood zone   \n",
       "2           2.0        0.0           3.0      Gas  Non flood zone   \n",
       "3           2.0        0.0           2.0      Gas             NaN   \n",
       "4           2.0        0.0           6.0      Gas  Non flood zone   \n",
       "\n",
       "   surroundings  zipcode  municipality                 province  \n",
       "0      Isolated     1050       Ixelles  Brussels Capital Region  \n",
       "1           NaN     3020      Winksele          Flemish Brabant  \n",
       "2         Urban     4820         Dison                    Liège  \n",
       "3      Isolated     1060  Saint-Gilles  Brussels Capital Region  \n",
       "4      Isolated     4680        Oupeye                    Liège  \n",
       "\n",
       "[5 rows x 26 columns]"
      ]
     },
<<<<<<< HEAD
     "execution_count": 11,
=======
     "execution_count": 3,
>>>>>>> 9a018bfa6935622381fffceb20997b3f948acda7
     "metadata": {},
     "output_type": "execute_result"
    }
   ],
   "source": [
    "df = pd.read_csv(\"../data/cleaned_data.csv\")\n",
    "df.head()"
   ]
  },
  {
   "cell_type": "code",
<<<<<<< HEAD
   "execution_count": 12,
=======
   "execution_count": 4,
>>>>>>> 9a018bfa6935622381fffceb20997b3f948acda7
   "metadata": {},
   "outputs": [
    {
     "data": {
      "text/plain": [
       "(9341, 26)"
      ]
     },
<<<<<<< HEAD
     "execution_count": 12,
=======
     "execution_count": 4,
>>>>>>> 9a018bfa6935622381fffceb20997b3f948acda7
     "metadata": {},
     "output_type": "execute_result"
    }
   ],
   "source": [
    "df.shape"
   ]
  },
  {
   "cell_type": "code",
<<<<<<< HEAD
   "execution_count": 13,
=======
   "execution_count": 5,
>>>>>>> 9a018bfa6935622381fffceb20997b3f948acda7
   "metadata": {},
   "outputs": [
    {
     "data": {
      "text/plain": [
       "id                     0\n",
       "building_type          0\n",
       "building_subtype       0\n",
       "price                 37\n",
       "living_area          132\n",
       "frontages           1678\n",
       "bedrooms             152\n",
       "bathrooms           1204\n",
       "liv_room_surf       3616\n",
       "kitchen_type        1039\n",
       "showers             6197\n",
       "toilets              831\n",
       "basement            4848\n",
       "terrace                0\n",
       "garden                 0\n",
       "elevator            4203\n",
       "swimming_pool       5377\n",
       "status_build        1054\n",
       "furnished           4288\n",
       "energy_class           0\n",
       "heating             1261\n",
       "flood_zone          4240\n",
       "surroundings        5330\n",
       "zipcode                0\n",
       "municipality           0\n",
       "province               0\n",
       "dtype: int64"
      ]
     },
<<<<<<< HEAD
     "execution_count": 13,
=======
     "execution_count": 5,
>>>>>>> 9a018bfa6935622381fffceb20997b3f948acda7
     "metadata": {},
     "output_type": "execute_result"
    }
   ],
   "source": [
    "missing_values = df.isnull().sum()\n",
    "missing_values"
   ]
  },
  {
   "cell_type": "code",
   "execution_count": 14,
   "metadata": {},
   "outputs": [],
   "source": [
    "df = df.drop(columns = [\"kitchen_type\", \"status_build\",\"bedrooms\", \"liv_room_surf\", \"frontages\", \"bathrooms\", \"id\", \"basement\",\"elevator\", \"surroundings\",\"flood_zone\", \"heating\", \"showers\",\"toilets\", \"furnished\", \"heating\",\"flood_zone\"])\n",
    "\n",
    "#dropna living_area, price\n",
    "df = df.dropna(subset=[\"living_area\", \"price\"])\n",
    "\n",
    "#replace swimming_pool None with 0\n",
    "df[\"swimming_pool\"] = df[\"swimming_pool\"].fillna(0)"
   ]
  },
  {
   "cell_type": "code",
   "execution_count": 15,
   "metadata": {},
   "outputs": [
    {
     "data": {
      "text/plain": [
       "building_type       0\n",
       "building_subtype    0\n",
       "price               0\n",
       "living_area         0\n",
       "terrace             0\n",
       "garden              0\n",
       "swimming_pool       0\n",
       "energy_class        0\n",
       "zipcode             0\n",
       "municipality        0\n",
       "province            0\n",
       "dtype: int64"
      ]
     },
     "execution_count": 15,
     "metadata": {},
     "output_type": "execute_result"
    }
   ],
   "source": [
    "missing_values = df.isnull().sum()\n",
    "missing_values"
   ]
  },
  {
   "cell_type": "code",
   "execution_count": 16,
   "metadata": {},
   "outputs": [
    {
     "data": {
      "text/plain": [
       "(9172, 11)"
      ]
     },
     "execution_count": 16,
     "metadata": {},
     "output_type": "execute_result"
    }
   ],
   "source": [
    "df.shape"
   ]
  },
  {
   "cell_type": "code",
   "execution_count": 18,
   "metadata": {},
   "outputs": [
    {
     "name": "stdout",
     "output_type": "stream",
     "text": [
      "<class 'pandas.core.frame.DataFrame'>\n",
      "Index: 9172 entries, 0 to 9340\n",
      "Data columns (total 11 columns):\n",
      " #   Column            Non-Null Count  Dtype  \n",
      "---  ------            --------------  -----  \n",
      " 0   building_type     9172 non-null   object \n",
      " 1   building_subtype  9172 non-null   object \n",
      " 2   price             9172 non-null   float64\n",
      " 3   living_area       9172 non-null   float64\n",
      " 4   terrace           9172 non-null   float64\n",
      " 5   garden            9172 non-null   float64\n",
      " 6   swimming_pool     9172 non-null   float64\n",
      " 7   energy_class      9172 non-null   float64\n",
      " 8   zipcode           9172 non-null   int64  \n",
      " 9   municipality      9172 non-null   object \n",
      " 10  province          9172 non-null   object \n",
      "dtypes: float64(6), int64(1), object(4)\n",
      "memory usage: 859.9+ KB\n"
     ]
    }
   ],
   "source": [
    "df.info()"
   ]
  },
  {
   "cell_type": "code",
   "execution_count": 19,
   "metadata": {},
   "outputs": [
    {
     "name": "stdout",
     "output_type": "stream",
     "text": [
      "Categorical variables:\n",
      "['building_type', 'building_subtype', 'municipality', 'province']\n",
      "No. of. categorical features:  4\n"
     ]
    }
   ],
   "source": [
    "from sklearn.preprocessing import OneHotEncoder\n",
    " \n",
    "s = (df.dtypes == 'object')\n",
    "object_cols = list(s[s].index)\n",
    "print(\"Categorical variables:\")\n",
    "print(object_cols)\n",
    "print('No. of. categorical features: ',\n",
    "      len(object_cols))"
   ]
  }
 ],
 "metadata": {
  "kernelspec": {
   "display_name": "env",
   "language": "python",
   "name": "python3"
  },
  "language_info": {
   "codemirror_mode": {
    "name": "ipython",
    "version": 3
   },
   "file_extension": ".py",
   "mimetype": "text/x-python",
   "name": "python",
   "nbconvert_exporter": "python",
   "pygments_lexer": "ipython3",
   "version": "3.10.6"
  },
  "orig_nbformat": 4
 },
 "nbformat": 4,
 "nbformat_minor": 2
}
