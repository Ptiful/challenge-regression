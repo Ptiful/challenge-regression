{
 "cells": [
  {
   "cell_type": "code",
   "execution_count": 690,
   "metadata": {},
   "outputs": [],
   "source": [
    "import pandas as pd\n",
    "import matplotlib.pyplot as plt\n",
    "import numpy as np\n",
    "import seaborn as sns \n",
    "from typing import List"
   ]
  },
  {
   "cell_type": "code",
   "execution_count": 691,
   "metadata": {},
   "outputs": [
    {
     "data": {
      "text/html": [
       "<div>\n",
       "<style scoped>\n",
       "    .dataframe tbody tr th:only-of-type {\n",
       "        vertical-align: middle;\n",
       "    }\n",
       "\n",
       "    .dataframe tbody tr th {\n",
       "        vertical-align: top;\n",
       "    }\n",
       "\n",
       "    .dataframe thead th {\n",
       "        text-align: right;\n",
       "    }\n",
       "</style>\n",
       "<table border=\"1\" class=\"dataframe\">\n",
       "  <thead>\n",
       "    <tr style=\"text-align: right;\">\n",
       "      <th></th>\n",
       "      <th>id</th>\n",
       "      <th>building_type</th>\n",
       "      <th>building_subtype</th>\n",
       "      <th>price</th>\n",
       "      <th>living_area</th>\n",
       "      <th>frontages</th>\n",
       "      <th>bedrooms</th>\n",
       "      <th>bathrooms</th>\n",
       "      <th>liv_room_surf</th>\n",
       "      <th>kitchen_type</th>\n",
       "      <th>...</th>\n",
       "      <th>swimming_pool</th>\n",
       "      <th>status_build</th>\n",
       "      <th>furnished</th>\n",
       "      <th>energy_class</th>\n",
       "      <th>heating</th>\n",
       "      <th>flood_zone</th>\n",
       "      <th>surroundings</th>\n",
       "      <th>zipcode</th>\n",
       "      <th>municipality</th>\n",
       "      <th>province</th>\n",
       "    </tr>\n",
       "  </thead>\n",
       "  <tbody>\n",
       "    <tr>\n",
       "      <th>0</th>\n",
       "      <td>10579542</td>\n",
       "      <td>apartment</td>\n",
       "      <td>apartment</td>\n",
       "      <td>210000.0</td>\n",
       "      <td>50.0</td>\n",
       "      <td>2.0</td>\n",
       "      <td>1.0</td>\n",
       "      <td>1.0</td>\n",
       "      <td>NaN</td>\n",
       "      <td>1.0</td>\n",
       "      <td>...</td>\n",
       "      <td>0.0</td>\n",
       "      <td>3.0</td>\n",
       "      <td>NaN</td>\n",
       "      <td>4</td>\n",
       "      <td>Gas</td>\n",
       "      <td>Non flood zone</td>\n",
       "      <td>Urban</td>\n",
       "      <td>1030</td>\n",
       "      <td>Schaerbeek</td>\n",
       "      <td>Brussels Capital Region</td>\n",
       "    </tr>\n",
       "    <tr>\n",
       "      <th>1</th>\n",
       "      <td>10470376</td>\n",
       "      <td>house</td>\n",
       "      <td>house</td>\n",
       "      <td>NaN</td>\n",
       "      <td>130.0</td>\n",
       "      <td>3.0</td>\n",
       "      <td>3.0</td>\n",
       "      <td>1.0</td>\n",
       "      <td>28.0</td>\n",
       "      <td>1.0</td>\n",
       "      <td>...</td>\n",
       "      <td>NaN</td>\n",
       "      <td>2.0</td>\n",
       "      <td>NaN</td>\n",
       "      <td>4</td>\n",
       "      <td>Gas</td>\n",
       "      <td>NaN</td>\n",
       "      <td>NaN</td>\n",
       "      <td>4400</td>\n",
       "      <td>Mons-Lez-Liège</td>\n",
       "      <td>Liège</td>\n",
       "    </tr>\n",
       "    <tr>\n",
       "      <th>2</th>\n",
       "      <td>10576898</td>\n",
       "      <td>apartment</td>\n",
       "      <td>apartment</td>\n",
       "      <td>235000.0</td>\n",
       "      <td>41.0</td>\n",
       "      <td>2.0</td>\n",
       "      <td>1.0</td>\n",
       "      <td>1.0</td>\n",
       "      <td>22.0</td>\n",
       "      <td>1.0</td>\n",
       "      <td>...</td>\n",
       "      <td>NaN</td>\n",
       "      <td>2.0</td>\n",
       "      <td>1.0</td>\n",
       "      <td>4</td>\n",
       "      <td>Electric</td>\n",
       "      <td>NaN</td>\n",
       "      <td>Urban</td>\n",
       "      <td>9000</td>\n",
       "      <td>Gent</td>\n",
       "      <td>East Flanders</td>\n",
       "    </tr>\n",
       "    <tr>\n",
       "      <th>3</th>\n",
       "      <td>10482213</td>\n",
       "      <td>apartment</td>\n",
       "      <td>apartment</td>\n",
       "      <td>NaN</td>\n",
       "      <td>58.0</td>\n",
       "      <td>NaN</td>\n",
       "      <td>1.0</td>\n",
       "      <td>1.0</td>\n",
       "      <td>23.0</td>\n",
       "      <td>0.0</td>\n",
       "      <td>...</td>\n",
       "      <td>NaN</td>\n",
       "      <td>3.0</td>\n",
       "      <td>NaN</td>\n",
       "      <td>6</td>\n",
       "      <td>Gas</td>\n",
       "      <td>NaN</td>\n",
       "      <td>NaN</td>\n",
       "      <td>4040</td>\n",
       "      <td>Herstal</td>\n",
       "      <td>Liège</td>\n",
       "    </tr>\n",
       "    <tr>\n",
       "      <th>4</th>\n",
       "      <td>10585245</td>\n",
       "      <td>apartment</td>\n",
       "      <td>apartment</td>\n",
       "      <td>235000.0</td>\n",
       "      <td>90.0</td>\n",
       "      <td>2.0</td>\n",
       "      <td>2.0</td>\n",
       "      <td>1.0</td>\n",
       "      <td>20.0</td>\n",
       "      <td>0.0</td>\n",
       "      <td>...</td>\n",
       "      <td>NaN</td>\n",
       "      <td>2.0</td>\n",
       "      <td>0.0</td>\n",
       "      <td>4</td>\n",
       "      <td>Gas</td>\n",
       "      <td>NaN</td>\n",
       "      <td>Living area (residential, urban or rural)</td>\n",
       "      <td>1020</td>\n",
       "      <td>Laeken</td>\n",
       "      <td>Brussels Capital Region</td>\n",
       "    </tr>\n",
       "  </tbody>\n",
       "</table>\n",
       "<p>5 rows × 26 columns</p>\n",
       "</div>"
      ],
      "text/plain": [
       "         id building_type building_subtype     price  living_area  frontages  \\\n",
       "0  10579542     apartment        apartment  210000.0         50.0        2.0   \n",
       "1  10470376         house            house       NaN        130.0        3.0   \n",
       "2  10576898     apartment        apartment  235000.0         41.0        2.0   \n",
       "3  10482213     apartment        apartment       NaN         58.0        NaN   \n",
       "4  10585245     apartment        apartment  235000.0         90.0        2.0   \n",
       "\n",
       "   bedrooms  bathrooms  liv_room_surf  kitchen_type  ...  swimming_pool  \\\n",
       "0       1.0        1.0            NaN           1.0  ...            0.0   \n",
       "1       3.0        1.0           28.0           1.0  ...            NaN   \n",
       "2       1.0        1.0           22.0           1.0  ...            NaN   \n",
       "3       1.0        1.0           23.0           0.0  ...            NaN   \n",
       "4       2.0        1.0           20.0           0.0  ...            NaN   \n",
       "\n",
       "   status_build  furnished  energy_class   heating      flood_zone  \\\n",
       "0           3.0        NaN             4       Gas  Non flood zone   \n",
       "1           2.0        NaN             4       Gas             NaN   \n",
       "2           2.0        1.0             4  Electric             NaN   \n",
       "3           3.0        NaN             6       Gas             NaN   \n",
       "4           2.0        0.0             4       Gas             NaN   \n",
       "\n",
       "                                surroundings  zipcode    municipality  \\\n",
       "0                                      Urban     1030      Schaerbeek   \n",
       "1                                        NaN     4400  Mons-Lez-Liège   \n",
       "2                                      Urban     9000            Gent   \n",
       "3                                        NaN     4040         Herstal   \n",
       "4  Living area (residential, urban or rural)     1020          Laeken   \n",
       "\n",
       "                  province  \n",
       "0  Brussels Capital Region  \n",
       "1                    Liège  \n",
       "2            East Flanders  \n",
       "3                    Liège  \n",
       "4  Brussels Capital Region  \n",
       "\n",
       "[5 rows x 26 columns]"
      ]
     },
     "execution_count": 691,
     "metadata": {},
     "output_type": "execute_result"
    }
   ],
   "source": [
    "df = pd.read_csv(\"../data/cleaned_data.csv\")\n",
    "df.head()"
   ]
  },
  {
   "cell_type": "code",
   "execution_count": 692,
   "metadata": {},
   "outputs": [
    {
     "data": {
      "text/plain": [
       "(29783, 26)"
      ]
     },
     "execution_count": 692,
     "metadata": {},
     "output_type": "execute_result"
    }
   ],
   "source": [
    "df.shape"
   ]
  },
  {
   "cell_type": "code",
   "execution_count": 693,
   "metadata": {},
   "outputs": [
    {
     "data": {
      "text/plain": [
       "id                      0\n",
       "building_type           0\n",
       "building_subtype        0\n",
       "price                4587\n",
       "living_area          6491\n",
       "frontages            8812\n",
       "bedrooms             1019\n",
       "bathrooms            6292\n",
       "liv_room_surf       18027\n",
       "kitchen_type        12941\n",
       "showers             23670\n",
       "toilets              9508\n",
       "basement            19282\n",
       "terrace                 0\n",
       "garden                  0\n",
       "elevator            18818\n",
       "swimming_pool       22236\n",
       "status_build         8843\n",
       "furnished           17721\n",
       "energy_class            0\n",
       "heating             10394\n",
       "flood_zone          17745\n",
       "surroundings        20456\n",
       "zipcode                 0\n",
       "municipality            0\n",
       "province                0\n",
       "dtype: int64"
      ]
     },
     "execution_count": 693,
     "metadata": {},
     "output_type": "execute_result"
    }
   ],
   "source": [
    "missing_values = df.isnull().sum()\n",
    "missing_values"
   ]
  },
  {
   "cell_type": "code",
   "execution_count": 694,
   "metadata": {},
   "outputs": [
    {
     "data": {
      "text/plain": [
       "building_subtype\n",
       "apartment              80\n",
       "apartment-block        74\n",
       "chalet                  5\n",
       "country-cottage         1\n",
       "duplex                  3\n",
       "farmhouse               2\n",
       "flat-studio           596\n",
       "ground-floor            8\n",
       "house                 140\n",
       "kot                    13\n",
       "loft                   16\n",
       "manor-house             1\n",
       "mixed-use-building     54\n",
       "other-property         16\n",
       "penthouse               3\n",
       "service-flat            6\n",
       "villa                   1\n",
       "dtype: int64"
      ]
     },
     "execution_count": 694,
     "metadata": {},
     "output_type": "execute_result"
    }
   ],
   "source": [
    "missing_values = df[df[\"bedrooms\"].isnull()].groupby(\"building_subtype\").size()\n",
    "missing_values"
   ]
  },
  {
   "cell_type": "code",
   "execution_count": 695,
   "metadata": {},
   "outputs": [],
   "source": [
    "df_studio = df[df[\"building_subtype\"] == \"flat-studio\"].copy()\n",
    "df_studio[\"bedrooms\"].replace({np.nan: 1, 2: 1, 5 : 1}, inplace=True)"
   ]
  },
  {
   "cell_type": "code",
   "execution_count": 696,
   "metadata": {},
   "outputs": [
    {
     "data": {
      "text/html": [
       "<div>\n",
       "<style scoped>\n",
       "    .dataframe tbody tr th:only-of-type {\n",
       "        vertical-align: middle;\n",
       "    }\n",
       "\n",
       "    .dataframe tbody tr th {\n",
       "        vertical-align: top;\n",
       "    }\n",
       "\n",
       "    .dataframe thead th {\n",
       "        text-align: right;\n",
       "    }\n",
       "</style>\n",
       "<table border=\"1\" class=\"dataframe\">\n",
       "  <thead>\n",
       "    <tr style=\"text-align: right;\">\n",
       "      <th></th>\n",
       "      <th>id</th>\n",
       "      <th>building_type</th>\n",
       "      <th>building_subtype</th>\n",
       "      <th>price</th>\n",
       "      <th>living_area</th>\n",
       "      <th>frontages</th>\n",
       "      <th>bedrooms</th>\n",
       "      <th>bathrooms</th>\n",
       "      <th>liv_room_surf</th>\n",
       "      <th>kitchen_type</th>\n",
       "      <th>...</th>\n",
       "      <th>swimming_pool</th>\n",
       "      <th>status_build</th>\n",
       "      <th>furnished</th>\n",
       "      <th>energy_class</th>\n",
       "      <th>heating</th>\n",
       "      <th>flood_zone</th>\n",
       "      <th>surroundings</th>\n",
       "      <th>zipcode</th>\n",
       "      <th>municipality</th>\n",
       "      <th>province</th>\n",
       "    </tr>\n",
       "  </thead>\n",
       "  <tbody>\n",
       "    <tr>\n",
       "      <th>0</th>\n",
       "      <td>10579542</td>\n",
       "      <td>apartment</td>\n",
       "      <td>apartment</td>\n",
       "      <td>210000.0</td>\n",
       "      <td>50.0</td>\n",
       "      <td>2.0</td>\n",
       "      <td>1.0</td>\n",
       "      <td>1.0</td>\n",
       "      <td>NaN</td>\n",
       "      <td>1.0</td>\n",
       "      <td>...</td>\n",
       "      <td>0.0</td>\n",
       "      <td>3.0</td>\n",
       "      <td>NaN</td>\n",
       "      <td>4</td>\n",
       "      <td>Gas</td>\n",
       "      <td>Non flood zone</td>\n",
       "      <td>Urban</td>\n",
       "      <td>1030</td>\n",
       "      <td>Schaerbeek</td>\n",
       "      <td>Brussels Capital Region</td>\n",
       "    </tr>\n",
       "    <tr>\n",
       "      <th>1</th>\n",
       "      <td>10470376</td>\n",
       "      <td>house</td>\n",
       "      <td>house</td>\n",
       "      <td>NaN</td>\n",
       "      <td>130.0</td>\n",
       "      <td>3.0</td>\n",
       "      <td>3.0</td>\n",
       "      <td>1.0</td>\n",
       "      <td>28.0</td>\n",
       "      <td>1.0</td>\n",
       "      <td>...</td>\n",
       "      <td>NaN</td>\n",
       "      <td>2.0</td>\n",
       "      <td>NaN</td>\n",
       "      <td>4</td>\n",
       "      <td>Gas</td>\n",
       "      <td>NaN</td>\n",
       "      <td>NaN</td>\n",
       "      <td>4400</td>\n",
       "      <td>Mons-Lez-Liège</td>\n",
       "      <td>Liège</td>\n",
       "    </tr>\n",
       "    <tr>\n",
       "      <th>2</th>\n",
       "      <td>10576898</td>\n",
       "      <td>apartment</td>\n",
       "      <td>apartment</td>\n",
       "      <td>235000.0</td>\n",
       "      <td>41.0</td>\n",
       "      <td>2.0</td>\n",
       "      <td>1.0</td>\n",
       "      <td>1.0</td>\n",
       "      <td>22.0</td>\n",
       "      <td>1.0</td>\n",
       "      <td>...</td>\n",
       "      <td>NaN</td>\n",
       "      <td>2.0</td>\n",
       "      <td>1.0</td>\n",
       "      <td>4</td>\n",
       "      <td>Electric</td>\n",
       "      <td>NaN</td>\n",
       "      <td>Urban</td>\n",
       "      <td>9000</td>\n",
       "      <td>Gent</td>\n",
       "      <td>East Flanders</td>\n",
       "    </tr>\n",
       "    <tr>\n",
       "      <th>3</th>\n",
       "      <td>10482213</td>\n",
       "      <td>apartment</td>\n",
       "      <td>apartment</td>\n",
       "      <td>NaN</td>\n",
       "      <td>58.0</td>\n",
       "      <td>NaN</td>\n",
       "      <td>1.0</td>\n",
       "      <td>1.0</td>\n",
       "      <td>23.0</td>\n",
       "      <td>0.0</td>\n",
       "      <td>...</td>\n",
       "      <td>NaN</td>\n",
       "      <td>3.0</td>\n",
       "      <td>NaN</td>\n",
       "      <td>6</td>\n",
       "      <td>Gas</td>\n",
       "      <td>NaN</td>\n",
       "      <td>NaN</td>\n",
       "      <td>4040</td>\n",
       "      <td>Herstal</td>\n",
       "      <td>Liège</td>\n",
       "    </tr>\n",
       "    <tr>\n",
       "      <th>4</th>\n",
       "      <td>10585245</td>\n",
       "      <td>apartment</td>\n",
       "      <td>apartment</td>\n",
       "      <td>235000.0</td>\n",
       "      <td>90.0</td>\n",
       "      <td>2.0</td>\n",
       "      <td>2.0</td>\n",
       "      <td>1.0</td>\n",
       "      <td>20.0</td>\n",
       "      <td>0.0</td>\n",
       "      <td>...</td>\n",
       "      <td>NaN</td>\n",
       "      <td>2.0</td>\n",
       "      <td>0.0</td>\n",
       "      <td>4</td>\n",
       "      <td>Gas</td>\n",
       "      <td>NaN</td>\n",
       "      <td>Living area (residential, urban or rural)</td>\n",
       "      <td>1020</td>\n",
       "      <td>Laeken</td>\n",
       "      <td>Brussels Capital Region</td>\n",
       "    </tr>\n",
       "  </tbody>\n",
       "</table>\n",
       "<p>5 rows × 26 columns</p>\n",
       "</div>"
      ],
      "text/plain": [
       "         id building_type building_subtype     price  living_area  frontages  \\\n",
       "0  10579542     apartment        apartment  210000.0         50.0        2.0   \n",
       "1  10470376         house            house       NaN        130.0        3.0   \n",
       "2  10576898     apartment        apartment  235000.0         41.0        2.0   \n",
       "3  10482213     apartment        apartment       NaN         58.0        NaN   \n",
       "4  10585245     apartment        apartment  235000.0         90.0        2.0   \n",
       "\n",
       "   bedrooms  bathrooms  liv_room_surf  kitchen_type  ...  swimming_pool  \\\n",
       "0       1.0        1.0            NaN           1.0  ...            0.0   \n",
       "1       3.0        1.0           28.0           1.0  ...            NaN   \n",
       "2       1.0        1.0           22.0           1.0  ...            NaN   \n",
       "3       1.0        1.0           23.0           0.0  ...            NaN   \n",
       "4       2.0        1.0           20.0           0.0  ...            NaN   \n",
       "\n",
       "   status_build  furnished  energy_class   heating      flood_zone  \\\n",
       "0           3.0        NaN             4       Gas  Non flood zone   \n",
       "1           2.0        NaN             4       Gas             NaN   \n",
       "2           2.0        1.0             4  Electric             NaN   \n",
       "3           3.0        NaN             6       Gas             NaN   \n",
       "4           2.0        0.0             4       Gas             NaN   \n",
       "\n",
       "                                surroundings  zipcode    municipality  \\\n",
       "0                                      Urban     1030      Schaerbeek   \n",
       "1                                        NaN     4400  Mons-Lez-Liège   \n",
       "2                                      Urban     9000            Gent   \n",
       "3                                        NaN     4040         Herstal   \n",
       "4  Living area (residential, urban or rural)     1020          Laeken   \n",
       "\n",
       "                  province  \n",
       "0  Brussels Capital Region  \n",
       "1                    Liège  \n",
       "2            East Flanders  \n",
       "3                    Liège  \n",
       "4  Brussels Capital Region  \n",
       "\n",
       "[5 rows x 26 columns]"
      ]
     },
     "execution_count": 696,
     "metadata": {},
     "output_type": "execute_result"
    }
   ],
   "source": [
    "df.drop(df[df[\"building_subtype\"] == \"flat-studio\"].index, inplace=True)\n",
    "df = pd.concat([df, df_studio])\n",
    "df[df[\"building_subtype\"] == \"flat-studio\"][[\"bedrooms\"]].value_counts()\n",
    "df.head()"
   ]
  },
  {
   "cell_type": "code",
   "execution_count": 697,
   "metadata": {},
   "outputs": [],
   "source": [
    "df = df.drop(columns = [\"kitchen_type\", \"status_build\", \"liv_room_surf\", \"frontages\", \"bathrooms\", \"id\", \"basement\",\"elevator\", \"surroundings\",\"flood_zone\", \"heating\", \"showers\",\"toilets\", \"furnished\", \"heating\",\"flood_zone\"])\n",
    "\n",
    "#dropna living_area, price\n",
    "df = df.dropna(subset=[\"living_area\", \"price\", \"bedrooms\"])\n",
    "\n",
    "#replace swimming_pool None with 0\n",
    "df[\"swimming_pool\"] = df[\"swimming_pool\"].fillna(0)"
   ]
  },
  {
   "cell_type": "code",
   "execution_count": 698,
   "metadata": {},
   "outputs": [
    {
     "data": {
      "text/plain": [
       "building_type       0\n",
       "building_subtype    0\n",
       "price               0\n",
       "living_area         0\n",
       "bedrooms            0\n",
       "terrace             0\n",
       "garden              0\n",
       "swimming_pool       0\n",
       "energy_class        0\n",
       "zipcode             0\n",
       "municipality        0\n",
       "province            0\n",
       "dtype: int64"
      ]
     },
     "execution_count": 698,
     "metadata": {},
     "output_type": "execute_result"
    }
   ],
   "source": [
    "missing_values = df.isnull().sum()\n",
    "missing_values"
   ]
  },
  {
   "cell_type": "code",
   "execution_count": 699,
   "metadata": {},
   "outputs": [
    {
     "data": {
      "text/plain": [
       "(21055, 12)"
      ]
     },
     "execution_count": 699,
     "metadata": {},
     "output_type": "execute_result"
    }
   ],
   "source": [
    "df.shape"
   ]
  },
  {
   "cell_type": "code",
   "execution_count": 700,
   "metadata": {},
   "outputs": [],
   "source": [
    "def remove_outliers(df: pd.DataFrame, columns: List[str], n_std: int) -> pd.DataFrame:\n",
    "    for col in columns:\n",
    "        print('Working on column: {}'.format(col))\n",
    "\n",
    "        mean = df[col].mean()\n",
    "        sd = df[col].std()\n",
    "\n",
    "        df = df[(df[col] <= mean+(n_std*sd))]\n",
    "\n",
    "    return df"
   ]
  },
  {
   "cell_type": "code",
   "execution_count": 701,
   "metadata": {},
   "outputs": [
    {
     "name": "stdout",
     "output_type": "stream",
     "text": [
      "Working on column: living_area\n",
      "Working on column: price\n",
      "Working on column: bedrooms\n",
      "Working on column: terrace\n",
      "Working on column: garden\n"
     ]
    }
   ],
   "source": [
    "df = remove_outliers(df, ['living_area','price','bedrooms','terrace','garden'], 4)"
   ]
  },
  {
   "cell_type": "code",
   "execution_count": 702,
   "metadata": {},
   "outputs": [
    {
     "data": {
      "text/plain": [
       "(20815, 12)"
      ]
     },
     "execution_count": 702,
     "metadata": {},
     "output_type": "execute_result"
    }
   ],
   "source": [
    "df.shape"
   ]
  },
  {
   "cell_type": "code",
   "execution_count": 703,
   "metadata": {},
   "outputs": [
    {
     "data": {
      "text/plain": [
       "\"# Calcul du premier et du troisième quartile\\nQ1 = df['bedrooms'].quantile(0.25)\\nQ3 = df['bedrooms'].quantile(0.75)\\n\\n# Calcul de l'écart interquartile (IQR)\\nIQR = Q3 - Q1\\n\\n# Définition des limites inférieure et supérieure\\nlower_bound = Q1 - 1.5 * IQR\\nupper_bound = Q3 + 1.5 * IQR\\n\\n# Suppression des valeurs aberrantes\\ndf = df[(df['bedrooms'] >= lower_bound) & (df['bedrooms'] <= upper_bound)]\""
      ]
     },
     "execution_count": 703,
     "metadata": {},
     "output_type": "execute_result"
    }
   ],
   "source": [
    "\"\"\"# Calcul du premier et du troisième quartile\n",
    "Q1 = df['bedrooms'].quantile(0.25)\n",
    "Q3 = df['bedrooms'].quantile(0.75)\n",
    "\n",
    "# Calcul de l'écart interquartile (IQR)\n",
    "IQR = Q3 - Q1\n",
    "\n",
    "# Définition des limites inférieure et supérieure\n",
    "lower_bound = Q1 - 1.5 * IQR\n",
    "upper_bound = Q3 + 1.5 * IQR\n",
    "\n",
    "# Suppression des valeurs aberrantes\n",
    "df = df[(df['bedrooms'] >= lower_bound) & (df['bedrooms'] <= upper_bound)]\"\"\""
   ]
  },
  {
   "cell_type": "code",
   "execution_count": 704,
   "metadata": {},
   "outputs": [
    {
     "data": {
      "text/plain": [
       "building_type       0\n",
       "building_subtype    0\n",
       "price               0\n",
       "living_area         0\n",
       "bedrooms            0\n",
       "terrace             0\n",
       "garden              0\n",
       "swimming_pool       0\n",
       "energy_class        0\n",
       "zipcode             0\n",
       "municipality        0\n",
       "province            0\n",
       "dtype: int64"
      ]
     },
     "execution_count": 704,
     "metadata": {},
     "output_type": "execute_result"
    }
   ],
   "source": [
    "missing_values = df.isnull().sum()\n",
    "missing_values"
   ]
  },
  {
   "cell_type": "code",
   "execution_count": 705,
   "metadata": {},
   "outputs": [
    {
     "data": {
      "image/png": "[encoded data removed]",
      "text/plain": [
       "<Figure size 640x480 with 1 Axes>"
      ]
     },
     "metadata": {},
     "output_type": "display_data"
    }
   ],
   "source": [
    "import matplotlib.pyplot as plt\n",
    "\n",
    "x = np.array(df[\"living_area\"])\n",
    "y = np.array(df[\"price\"])\n",
    "\n",
    "\n",
    "plt.scatter(x=x, y=y, marker=\".\", s=5)\n",
    "plt.xlabel(\"Living area\")\n",
    "plt.ylabel(\"Price\")\n",
    "plt.show()"
   ]
  },
  {
   "cell_type": "code",
   "execution_count": 689,
   "metadata": {},
   "outputs": [
    {
     "name": "stdout",
     "output_type": "stream",
     "text": [
      "Model Score: 0.07047239245010861\n",
      "        Actual      Predicted\n",
      "0     179000.0  194877.005732\n",
      "1      59999.0  175942.453906\n",
      "2     125000.0  200206.714045\n",
      "3     199000.0  178550.240651\n",
      "4     249000.0  219302.741673\n",
      "...        ...            ...\n",
      "6240  245000.0  209159.757741\n",
      "6241  129900.0  187308.557055\n",
      "6242  119000.0  193454.797525\n",
      "6243  249000.0  219228.108436\n",
      "6244  155000.0  199423.318305\n",
      "\n",
      "[6245 rows x 2 columns]\n"
     ]
    }
   ],
   "source": [
    "from sklearn.model_selection import train_test_split\n",
    "from sklearn.linear_model import LinearRegression\n",
    "import pandas as pd\n",
    "import numpy as np\n",
    "\n",
    "x = np.array(df[[\"living_area\", \"bedrooms\", \"terrace\", \"garden\", \"swimming_pool\", \"energy_class\"]])\n",
    "y = np.array(df[\"price\"])\n",
    "\n",
    "\n",
    "X_train = np.array(x).reshape(-1, 6)\n",
    "y_train = np.array(y).reshape(-1, 1)\n",
    "X_train, X_test, y_train, y_test = train_test_split(X_train, y_train, test_size=0.30, random_state=1)\n",
    "regressor = LinearRegression().fit(X_train, y_train)\n",
    "score = regressor.score(X_train, y_train)\n",
    "print(\"Model Score:\", score)\n",
    "\n",
    "y_pred = regressor.predict(X_test)\n",
    "\n",
    "df_preds = pd.DataFrame({'Actual': y_test.squeeze(), 'Predicted': y_pred.squeeze()})\n",
    "print(df_preds)\n"
   ]
  },
  {
   "cell_type": "code",
   "execution_count": null,
   "metadata": {},
   "outputs": [],
   "source": [
    "plt.scatter(X_train, y_train, marker=\".\", s=5)\n",
    "plt.plot(X_train, regressor.predict(X_train), color=\"r\")\n",
    "plt.title(\"Train\")\n",
    "plt.xlabel(\"Living area\")\n",
    "plt.ylabel(\"Price\")\n",
    "plt.show()"
   ]
  }
 ],
 "metadata": {
  "kernelspec": {
   "display_name": "env",
   "language": "python",
   "name": "python3"
  },
  "language_info": {
   "codemirror_mode": {
    "name": "ipython",
    "version": 3
   },
   "file_extension": ".py",
   "mimetype": "text/x-python",
   "name": "python",
   "nbconvert_exporter": "python",
   "pygments_lexer": "ipython3",
   "version": "3.11.1"
  },
  "orig_nbformat": 4
 },
 "nbformat": 4,
 "nbformat_minor": 2
}
