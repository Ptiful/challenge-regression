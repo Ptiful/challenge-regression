{
 "cells": [
  {
   "cell_type": "code",
   "execution_count": 5,
   "metadata": {},
   "outputs": [
    {
     "name": "stdout",
     "output_type": "stream",
     "text": [
      "building_type       0\n",
      "building_subtype    0\n",
      "price               0\n",
      "living_area         0\n",
      "terrace             0\n",
      "garden              0\n",
      "swimming_pool       0\n",
      "energy_class        0\n",
      "zipcode             0\n",
      "municipality        0\n",
      "province            0\n",
      "dtype: int64\n",
      "     building_type building_subtype     price  living_area  terrace  garden   \n",
      "0        apartment        apartment  730000.0        212.0      0.0     0.0  \\\n",
      "1        apartment             loft  775000.0        258.0      0.0     0.0   \n",
      "2        apartment        apartment   99000.0         94.0      0.0     0.0   \n",
      "3        apartment        apartment  730000.0        212.0      0.0     0.0   \n",
      "4        apartment        apartment  219000.0        111.0      0.0   200.0   \n",
      "...            ...              ...       ...          ...      ...     ...   \n",
      "9336         house            house  427000.0        180.0     40.0     0.0   \n",
      "9337         house            house  495000.0        130.0      0.0     0.0   \n",
      "9338         house            house  495000.0        262.0      0.0     0.0   \n",
      "9339         house            house  284000.0        146.0     44.0   425.0   \n",
      "9340         house            house  489000.0        200.0      0.0   130.0   \n",
      "\n",
      "      swimming_pool  energy_class  zipcode         municipality   \n",
      "0               0.0           2.0     1050              Ixelles  \\\n",
      "1               0.0           7.0     3020             Winksele   \n",
      "2               0.0           3.0     4820                Dison   \n",
      "3               0.0           2.0     1060         Saint-Gilles   \n",
      "4               0.0           6.0     4680               Oupeye   \n",
      "...             ...           ...      ...                  ...   \n",
      "9336            0.0           7.0     8970           Reningelst   \n",
      "9337            0.0           4.0     1325  Tourinnes-La-Grosse   \n",
      "9338            0.0           5.0     9000                 Gent   \n",
      "9339            0.0           3.0     4560             Terwagne   \n",
      "9340            0.0           6.0     2240            Zandhoven   \n",
      "\n",
      "                     province  \n",
      "0     Brussels Capital Region  \n",
      "1             Flemish Brabant  \n",
      "2                       Liège  \n",
      "3     Brussels Capital Region  \n",
      "4                       Liège  \n",
      "...                       ...  \n",
      "9336            West Flanders  \n",
      "9337          Walloon Brabant  \n",
      "9338            East Flanders  \n",
      "9339                    Liège  \n",
      "9340                  Antwerp  \n",
      "\n",
      "[9172 rows x 11 columns]\n"
     ]
    }
   ],
   "source": [
    "import numpy as np\n",
    "import pandas as pd\n",
    "import matplotlib.pyplot as plt\n",
    "\n",
    "# importer\n",
    "df =pd.read_csv(\"../data/cleaned_data.csv\")\n",
    "# print(df.isnull().sum())\n",
    "\n",
    "\n",
    "# removing bedrooms, liv_room_surf, frontages, bathrooms, id, basement,elevator\n",
    "# surroundings,flood_zone,heating, showers, toilets, furnished, energy_class, heating,flood_zone\n",
    "df = df.drop(columns = [\"kitchen_type\", \"status_build\",\"bedrooms\", \"liv_room_surf\", \"frontages\", \"bathrooms\", \"id\", \"basement\",\"elevator\", \"surroundings\",\"flood_zone\", \"heating\", \"showers\",\"toilets\", \"furnished\", \"heating\",\"flood_zone\"])\n",
    "\n",
    "#dropna living_area, price\n",
    "df = df.dropna(subset=[\"living_area\", \"price\"])\n",
    "\n",
    "#replace swimming_pool None with 0\n",
    "df[\"swimming_pool\"] = df[\"swimming_pool\"].fillna(0)\n",
    "\n",
    "\n",
    "print(df.isnull().sum())\n",
    "print(df)"
   ]
  }
 ],
 "metadata": {
  "kernelspec": {
   "display_name": "Python 3",
   "language": "python",
   "name": "python3"
  },
  "language_info": {
   "codemirror_mode": {
    "name": "ipython",
    "version": 3
   },
   "file_extension": ".py",
   "mimetype": "text/x-python",
   "name": "python",
   "nbconvert_exporter": "python",
   "pygments_lexer": "ipython3",
   "version": "3.10.6"
  },
  "orig_nbformat": 4
 },
 "nbformat": 4,
 "nbformat_minor": 2
}
