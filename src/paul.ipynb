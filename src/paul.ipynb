{
 "cells": [
  {
   "cell_type": "code",
   "execution_count": 4,
   "metadata": {},
   "outputs": [
    {
     "name": "stdout",
     "output_type": "stream",
     "text": [
      "building_type       0\n",
      "building_subtype    0\n",
      "price               0\n",
      "living_area         0\n",
      "terrace             0\n",
      "garden              0\n",
      "swimming_pool       0\n",
      "energy_class        0\n",
      "zipcode             0\n",
      "municipality        0\n",
      "province            0\n",
      "dtype: int64\n",
      "      building_type building_subtype     price  living_area  terrace  garden   \n",
      "0         apartment        apartment  210000.0         50.0      0.0     0.0  \\\n",
      "2         apartment        apartment  235000.0         41.0      5.0     0.0   \n",
      "4         apartment        apartment  235000.0         90.0      7.0     0.0   \n",
      "5         apartment        apartment  219000.0         70.0      3.0     0.0   \n",
      "6         apartment        apartment  223000.0        110.0      0.0     0.0   \n",
      "...             ...              ...       ...          ...      ...     ...   \n",
      "29764         house            house  180000.0        214.0     15.0     0.0   \n",
      "29766     apartment        apartment  195000.0         60.0      3.0     0.0   \n",
      "29767     apartment        apartment  160000.0         65.0      0.0     0.0   \n",
      "29768         house            house  179000.0        175.0      0.0     0.0   \n",
      "29773     apartment        apartment  179965.0         64.0     19.0     0.0   \n",
      "\n",
      "       swimming_pool energy_class  zipcode  municipality   \n",
      "0                0.0            4     1030    Schaerbeek  \\\n",
      "2                0.0            4     9000          Gent   \n",
      "4                0.0            4     1020        Laeken   \n",
      "5                0.0            4     1140         Evere   \n",
      "6                0.0            5     9230      Wetteren   \n",
      "...              ...          ...      ...           ...   \n",
      "29764            0.0            2     7100     Trivières   \n",
      "29766            0.0            1     1180         Uccle   \n",
      "29767            0.0            1     1090         Jette   \n",
      "29768            0.0            1     6000     Charleroi   \n",
      "29773            0.0            1     3970  Leopoldsburg   \n",
      "\n",
      "                      province  \n",
      "0      Brussels Capital Region  \n",
      "2                East Flanders  \n",
      "4      Brussels Capital Region  \n",
      "5      Brussels Capital Region  \n",
      "6                East Flanders  \n",
      "...                        ...  \n",
      "29764                  Hainaut  \n",
      "29766  Brussels Capital Region  \n",
      "29767  Brussels Capital Region  \n",
      "29768                  Hainaut  \n",
      "29773                  Limburg  \n",
      "\n",
      "[21311 rows x 11 columns]\n"
     ]
    }
   ],
   "source": [
    "import numpy as np\n",
    "import pandas as pd\n",
    "\n",
    "# importer\n",
    "df = pd.read_csv(\"../data/cleaned_data.csv\")\n",
    "\n",
    "# removing bedrooms, liv_room_surf, frontages, bathrooms, id, basement,elevator,\n",
    "# surroundings,flood_zone,heating, showers, toilets, furnished, energy_class, heating,flood_zone\n",
    "df = df.drop(\n",
    "    columns=[\n",
    "        \"kitchen_type\",\n",
    "        \"status_build\",\n",
    "        \"bedrooms\",\n",
    "        \"liv_room_surf\",\n",
    "        \"frontages\",\n",
    "        \"bathrooms\",\n",
    "        \"id\",\n",
    "        \"basement\",\n",
    "        \"elevator\",\n",
    "        \"surroundings\",\n",
    "        \"flood_zone\",\n",
    "        \"heating\",\n",
    "        \"showers\",\n",
    "        \"toilets\",\n",
    "        \"furnished\",\n",
    "        \"heating\",\n",
    "        \"flood_zone\",\n",
    "    ]\n",
    ")\n",
    "\n",
    "# dropna living_area, price\n",
    "df = df.dropna(subset=[\"living_area\", \"price\"])\n",
    "\n",
    "# replace swimming_pool None with 0\n",
    "df[\"swimming_pool\"] = df[\"swimming_pool\"].fillna(0)\n",
    "\n",
    "# \"building_type\",\n",
    "# \"building_subtype\",\n",
    "# \"living_area\",\n",
    "# \"terrace\",\n",
    "# \"garden\",\n",
    "# \"swimming_pool\",\n",
    "# \"energy_class\",\n",
    "# \"zipcode\",\n",
    "# \"municipality\",\n",
    "# \"province\",\n",
    "\n",
    "\n",
    "print(df.isnull().sum())\n",
    "print(df)"
   ]
  },
  {
   "cell_type": "code",
   "execution_count": 5,
   "metadata": {},
   "outputs": [
    {
     "data": {
      "image/png": "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",
      "text/plain": [
       "<Figure size 640x480 with 1 Axes>"
      ]
     },
     "metadata": {},
     "output_type": "display_data"
    },
    {
     "name": "stdout",
     "output_type": "stream",
     "text": [
<<<<<<< HEAD
      "0.09843818148930243\n"
=======
<<<<<<< HEAD
      "0.622503882919873\n"
=======
      "0.09843818148930251\n"
>>>>>>> main
>>>>>>> 7bfd8b4a13e6ff16a645104f4293d82a8a87ccc5
     ]
    }
   ],
   "source": [
    "import matplotlib.pyplot as plt\n",
    "from scipy import stats\n",
    "\n",
    "# Defining x and y value\n",
    "x = df[\"price\"]\n",
    "y = df[\"living_area\"]\n",
    "\n",
    "# df = df.mask(np.abs(stats.zscore(df)) LinearRegression< 20000)\n",
    "slope, intercept, r, p, std_err = stats.linregress(x, y)\n",
    "\n",
    "\n",
    "# Doing my recursive prediction function\n",
    "def prediction(x):\n",
    "    return slope * x + intercept\n",
    "\n",
    "\n",
    "# creating plt with two priors statements\n",
    "mymodel = list(map(prediction, x))\n",
    "plt.xlabel(\"Price by 2M€\")\n",
    "plt.ylabel(\"Living_area by m²\")\n",
    "plt.scatter(x, y)\n",
    "plt.plot(x, mymodel)\n",
    "plt.show()\n",
    "\n",
    "print(r)"
   ]
  },
  {
   "cell_type": "code",
   "execution_count": 6,
   "metadata": {},
   "outputs": [
    {
     "name": "stdout",
     "output_type": "stream",
     "text": [
      "[198992.67378175]\n"
     ]
    },
    {
     "name": "stderr",
     "output_type": "stream",
     "text": [
      "C:\\Users\\Paul\\AppData\\Roaming\\Python\\Python311\\site-packages\\sklearn\\base.py:439: UserWarning: X does not have valid feature names, but LinearRegression was fitted with feature names\n",
      "  warnings.warn(\n"
     ]
    },
    {
     "data": {
      "text/plain": [
       "0.009690192008744436"
      ]
     },
     "execution_count": 6,
     "metadata": {},
     "output_type": "execute_result"
    }
   ],
   "source": [
    "from sklearn.linear_model import LinearRegression\n",
    "\n",
    "# Defining X and y\n",
    "X = df[[\"living_area\", \"swimming_pool\"]]\n",
    "y = df[\"price\"]\n",
    "\n",
    "\n",
    "# establishing regression by X and y\n",
    "regression = LinearRegression()\n",
    "regression.fit(X, y)\n",
    "\n",
    "# prediction + print\n",
    "predicted = regression.predict([[200, 1]])\n",
    "print(predicted)\n",
    "\n",
    "# rajouter XText,yTest\n",
    "regression.score(X, y)"
   ]
  }
 ],
 "metadata": {
  "kernelspec": {
   "display_name": "Python 3",
   "language": "python",
   "name": "python3"
  },
  "language_info": {
   "codemirror_mode": {
    "name": "ipython",
    "version": 3
   },
   "file_extension": ".py",
   "mimetype": "text/x-python",
   "name": "python",
   "nbconvert_exporter": "python",
   "pygments_lexer": "ipython3",
   "version": "3.11.3"
  },
  "orig_nbformat": 4
 },
 "nbformat": 4,
 "nbformat_minor": 2
}
