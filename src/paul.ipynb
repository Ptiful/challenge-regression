{
 "cells": [
  {
   "cell_type": "code",
   "execution_count": 1,
   "metadata": {},
   "outputs": [
    {
     "name": "stdout",
     "output_type": "stream",
     "text": [
      "id                     0\n",
      "building_type          0\n",
      "building_subtype       0\n",
      "price                 37\n",
      "living_area          132\n",
      "frontages           1678\n",
      "bedrooms             152\n",
      "bathrooms           1204\n",
      "liv_room_surf       3616\n",
      "kitchen_type        1039\n",
      "showers             6197\n",
      "toilets              831\n",
      "basement            4848\n",
      "terrace                0\n",
      "garden                 0\n",
      "elevator            4203\n",
      "swimming_pool       5377\n",
      "status_build        1054\n",
      "furnished           4288\n",
      "energy_class           0\n",
      "heating             1261\n",
      "flood_zone          4240\n",
      "surroundings        5330\n",
      "zipcode                0\n",
      "municipality           0\n",
      "province               0\n",
      "dtype: int64\n"
     ]
    }
   ],
   "source": [
    "import numpy as np\n",
    "import pandas as pd\n",
    "import matplotlib.pyplot as plt\n",
    "\n",
    "# importer\n",
    "df =pd.read_csv(\"../data/cleaned_data.csv\")\n",
    "print(df.isnull().sum())\n",
    "# removing bedrooms, liv_room_surf, frontages, bathrooms, id, basement,elevator\n",
    "# surroundings,flood_zone,heating, showers, toilets, furnished, energy_class\n",
    "\n",
    "#dropna living_area, price\n",
    "\n",
    "# divide the dataset in x en Y"
   ]
  }
 ],
 "metadata": {
  "kernelspec": {
   "display_name": "Python 3",
   "language": "python",
   "name": "python3"
  },
  "language_info": {
   "codemirror_mode": {
    "name": "ipython",
    "version": 3
   },
   "file_extension": ".py",
   "mimetype": "text/x-python",
   "name": "python",
   "nbconvert_exporter": "python",
   "pygments_lexer": "ipython3",
   "version": "3.10.6"
  },
  "orig_nbformat": 4
 },
 "nbformat": 4,
 "nbformat_minor": 2
}
