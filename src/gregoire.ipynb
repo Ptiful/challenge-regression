{
 "cells": [
  {
   "cell_type": "code",
   "execution_count": 14,
   "metadata": {},
   "outputs": [
    {
     "name": "stdout",
     "output_type": "stream",
     "text": [
      "        Actual  Predicted\n",
      "2859  5.841985   5.425426\n",
      "3045  5.173186   5.467291\n",
      "4593  5.518514   5.736687\n",
      "8287  5.173186   5.355952\n",
      "4864  5.872156   5.801975\n",
      "...        ...        ...\n",
      "8477  5.739572   5.612746\n",
      "6695  5.352183   5.535673\n",
      "910   5.615634   5.498484\n",
      "5706  5.489958   5.596804\n",
      "5191  6.299943   5.759000\n",
      "\n",
      "[1835 rows x 2 columns]\n"
     ]
    }
   ],
   "source": [
    "import numpy as np\n",
    "import pandas as pd\n",
    "import matplotlib.pyplot as plt\n",
    "from sklearn import linear_model\n",
    "from sklearn.model_selection import train_test_split\n",
    "\n",
    "\n",
    "# importer\n",
    "df =pd.read_csv(\"../data/cleaned_data.csv\")\n",
    "# Selecting parameters to train our price prediction on\n",
    "df_selection = df[[ \n",
    "    \"price\",              \n",
    "    \"living_area\",\n",
    "    \"building_type\",          \n",
    "    \"terrace\",             \n",
    "    \"garden\",              \n",
    "    \"swimming_pool\",       \n",
    "    \"energy_class\"]]\n",
    "\n",
    "#df_selection = df_selection.replace([\"apartment\", \"house\"], [0, 1])\n",
    "#Switching price to log_price\n",
    "\n",
    "\n",
    "#Dropping missing values in living_area and price\n",
    "df_selection = df_selection.dropna(subset=[\"living_area\", \"price\"])\n",
    "df_selection['log_price'] = df_selection['price'].apply(np.log10)\n",
    "df_selection = df_selection.drop(columns = ['price'])\n",
    "#Fill missing values in swimming_pool with zeros.\n",
    "df_selection[\"swimming_pool\"] = df_selection[\"swimming_pool\"].fillna(0)\n",
    "\n",
    "X_train, X_test, y_train, y_test = train_test_split(\n",
    "    df_selection[[\"living_area\",       \n",
    "    \"terrace\",             \n",
    "    \"garden\",              \n",
    "    \"swimming_pool\",       \n",
    "    \"energy_class\"]], \n",
    "    df_selection['log_price'], \n",
    "    test_size = 0.2)\n",
    "\n",
    "regr = linear_model.LinearRegression()\n",
    "regr.fit(X_train, y_train)\n",
    "\n",
    "y_pred = regr.predict(X_test)\n",
    "df_preds = pd.DataFrame({'Actual': y_test.squeeze(), 'Predicted': y_pred.squeeze()})\n",
    "print(df_preds)\n"
   ]
  }
 ],
 "metadata": {
  "kernelspec": {
   "display_name": "venv",
   "language": "python",
   "name": "python3"
  },
  "language_info": {
   "codemirror_mode": {
    "name": "ipython",
    "version": 3
   },
   "file_extension": ".py",
   "mimetype": "text/x-python",
   "name": "python",
   "nbconvert_exporter": "python",
   "pygments_lexer": "ipython3",
   "version": "3.10.6"
  },
  "orig_nbformat": 4
 },
 "nbformat": 4,
 "nbformat_minor": 2
}
