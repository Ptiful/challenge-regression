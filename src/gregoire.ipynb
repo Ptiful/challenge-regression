{
 "cells": [
  {
   "cell_type": "code",
   "execution_count": 25,
   "metadata": {},
   "outputs": [
    {
     "name": "stdout",
     "output_type": "stream",
     "text": [
      "        Actual      Predicted\n",
      "2623  280000.0  302125.964959\n",
      "8250  189000.0  226220.767778\n",
      "5382  299000.0  278089.996358\n",
      "2946  185000.0  196622.051198\n",
      "7994  210000.0  264109.705359\n",
      "...        ...            ...\n",
      "1155  298000.0  279643.664549\n",
      "8993  435000.0  464871.678775\n",
      "1132  229000.0  193194.317509\n",
      "7353  229000.0  304396.425243\n",
      "6632  695000.0  550432.984283\n",
      "\n",
      "[1835 rows x 2 columns]\n"
     ]
    }
   ],
   "source": [
    "import numpy as np\n",
    "import pandas as pd\n",
    "import matplotlib.pyplot as plt\n",
    "from sklearn import linear_model\n",
    "from sklearn.model_selection import train_test_split\n",
    "\n",
    "\n",
    "# importer\n",
    "df =pd.read_csv(\"../data/cleaned_data.csv\")\n",
    "# Selecting parameters to train our price prediction on\n",
    "df_selection = df[[ \n",
    "    \"price\",              \n",
    "    \"living_area\",\n",
    "    \"building_type\",          \n",
    "    \"terrace\",             \n",
    "    \"garden\",              \n",
    "    \"swimming_pool\",       \n",
    "    \"energy_class\",\n",
    "    \"municipality\",\n",
    "    \"province\"]]\n",
    "\n",
    "#df_selection = df_selection.replace([\"apartment\", \"house\"], [0, 1])\n",
    "#Switching price to log_price\n",
    "\n",
    "\n",
    "#Dropping missing values in living_area and price\n",
    "df_selection = df_selection.dropna(subset=[\"living_area\", \"price\"])\n",
    "df_selection['log_price'] = df_selection['price'].apply(np.log10)\n",
    "df_selection = df_selection.drop(columns = ['price'])\n",
    "#Fill missing values in swimming_pool with zeros.\n",
    "df_selection[\"swimming_pool\"] = df_selection[\"swimming_pool\"].fillna(0)\n",
    "\n",
    "\n",
    "df_municipality = pd.get_dummies(df_selection[['municipality']])\n",
    "df_province = pd.get_dummies(df_selection[['province']])\n",
    "\n",
    "X = pd.concat([df_selection[[\"living_area\",       \n",
    "    \"terrace\",             \n",
    "    \"garden\",              \n",
    "    \"swimming_pool\",       \n",
    "    \"energy_class\"]], df_municipality, df_province], axis=1)\n",
    "y = df_selection['log_price']\n",
    "\n",
    "X_train, X_test, y_train, y_test = train_test_split(X, y, test_size = 0.2)\n",
    "\n",
    "regr = linear_model.LinearRegression()\n",
    "regr.fit(X_train, y_train)\n",
    "\n",
    "y_pred = regr.predict(X_test)\n",
    "\n",
    "y_pred_full = 10**y_pred\n",
    "y_test_full = 10**y_test\n",
    "\n",
    "df_preds = pd.DataFrame({'Actual': y_test_full.squeeze(), 'Predicted': y_pred_full.squeeze()})\n",
    "print(df_preds)\n",
    "\n"
   ]
  },
  {
   "cell_type": "code",
   "execution_count": 26,
   "metadata": {},
   "outputs": [
    {
     "name": "stdout",
     "output_type": "stream",
     "text": [
      "R²: 0.7008663213816937\n"
     ]
    }
   ],
   "source": [
    "from sklearn import metrics\n",
    "\n",
    "print('R²:', metrics.r2_score(y_test, y_pred))"
   ]
  }
 ],
 "metadata": {
  "kernelspec": {
   "display_name": "venv",
   "language": "python",
   "name": "python3"
  },
  "language_info": {
   "codemirror_mode": {
    "name": "ipython",
    "version": 3
   },
   "file_extension": ".py",
   "mimetype": "text/x-python",
   "name": "python",
   "nbconvert_exporter": "python",
   "pygments_lexer": "ipython3",
   "version": "3.10.6"
  },
  "orig_nbformat": 4
 },
 "nbformat": 4,
 "nbformat_minor": 2
}
