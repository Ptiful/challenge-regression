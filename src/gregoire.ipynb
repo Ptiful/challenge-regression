{
 "cells": [
  {
   "cell_type": "code",
   "execution_count": 2,
   "metadata": {},
   "outputs": [
    {
     "name": "stdout",
     "output_type": "stream",
     "text": [
      "        Actual  Predicted\n",
      "2699  5.525045   5.470227\n",
      "4953  5.201397   5.503632\n",
      "3819  5.352183   5.477737\n",
      "6883  5.838849   5.605825\n",
      "6985  6.254064   5.616586\n",
      "...        ...        ...\n",
      "1746  5.874482   5.536942\n",
      "6697  5.378398   5.547771\n",
      "470   5.190332   5.481641\n",
      "7499  5.469822   5.506394\n",
      "2957  5.475671   5.521337\n",
      "\n",
      "[1835 rows x 2 columns]\n"
     ]
    }
   ],
   "source": [
    "import numpy as np\n",
    "import pandas as pd\n",
    "import matplotlib.pyplot as plt\n",
    "from sklearn import linear_model\n",
    "from sklearn.model_selection import train_test_split\n",
    "\n",
    "\n",
    "# importer\n",
    "df =pd.read_csv(\"../data/cleaned_data.csv\")\n",
    "# Selecting parameters to train our price prediction on\n",
    "df_selection = df[[ \n",
    "    \"price\",              \n",
    "    \"living_area\",\n",
    "    \"building_type\",          \n",
    "    \"terrace\",             \n",
    "    \"garden\",              \n",
    "    \"swimming_pool\",       \n",
    "    \"energy_class\"]]\n",
    "\n",
    "#df_selection = df_selection.replace([\"apartment\", \"house\"], [0, 1])\n",
    "#Switching price to log_price\n",
    "\n",
    "\n",
    "#Dropping missing values in living_area and price\n",
    "df_selection = df_selection.dropna(subset=[\"living_area\", \"price\"])\n",
    "df_selection['log_price'] = df_selection['price'].apply(np.log10)\n",
    "df_selection = df_selection.drop(columns = ['price'])\n",
    "#Fill missing values in swimming_pool with zeros.\n",
    "df_selection[\"swimming_pool\"] = df_selection[\"swimming_pool\"].fillna(0)\n",
    "\n",
    "X_train, X_test, y_train, y_test = train_test_split(\n",
    "    df_selection[[\"living_area\",       \n",
    "    \"terrace\",             \n",
    "    \"garden\",              \n",
    "    \"swimming_pool\",       \n",
    "    \"energy_class\"]], \n",
    "    df_selection['log_price'], \n",
    "    test_size = 0.2)\n",
    "\n",
    "regr = linear_model.LinearRegression()\n",
    "regr.fit(X_train, y_train)\n",
    "\n",
    "y_pred = regr.predict(X_test)\n",
    "df_preds = pd.DataFrame({'Actual': y_test.squeeze(), 'Predicted': y_pred.squeeze()})\n",
    "print(df_preds)\n"
   ]
  }
 ],
 "metadata": {
  "kernelspec": {
   "display_name": "venv",
   "language": "python",
   "name": "python3"
  },
  "language_info": {
   "codemirror_mode": {
    "name": "ipython",
    "version": 3
   },
   "file_extension": ".py",
   "mimetype": "text/x-python",
   "name": "python",
   "nbconvert_exporter": "python",
   "pygments_lexer": "ipython3",
   "version": "3.10.6"
  },
  "orig_nbformat": 4
 },
 "nbformat": 4,
 "nbformat_minor": 2
}
