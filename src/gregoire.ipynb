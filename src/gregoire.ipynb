{
 "cells": [
  {
   "cell_type": "code",
   "execution_count": 27,
   "metadata": {},
   "outputs": [
    {
     "name": "stdout",
     "output_type": "stream",
     "text": [
      "         Actual      Predicted\n",
      "27850  209000.0  249509.303503\n",
      "26178  220000.0  207350.789554\n",
      "12171  135000.0  156784.725715\n",
      "17394  255000.0  207377.361905\n",
      "2130   195000.0  149679.136701\n",
      "...         ...            ...\n",
      "7926   200000.0  209308.227239\n",
      "1630   130000.0  203867.605414\n",
      "14559  215000.0  203005.229926\n",
      "469    139000.0  202112.266506\n",
      "17953  199000.0  200289.556613\n",
      "\n",
      "[2132 rows x 2 columns]\n"
     ]
    }
   ],
   "source": [
    "import numpy as np\n",
    "import pandas as pd\n",
    "import matplotlib.pyplot as plt\n",
    "from sklearn import linear_model\n",
    "from sklearn.model_selection import train_test_split\n",
    "\n",
    "\n",
    "# importer\n",
    "df =pd.read_csv(\"../data/cleaned_data.csv\")\n",
    "#df = df[df[\"building_type\"] != 'other-property']\n",
    "# Selecting parameters to train our price prediction on\n",
    "df_selection = df[[ \n",
    "    \"price\",              \n",
    "    \"living_area\",\n",
    "    \"building_type\",          \n",
    "    \"terrace\",             \n",
    "    \"garden\",              \n",
    "    \"swimming_pool\",       \n",
    "    \"energy_class\",\n",
    "    \"municipality\",\n",
    "    \"province\"]]\n",
    "\n",
    "#df_selection = df_selection.replace([\"apartment\", \"house\"], [0, 1])\n",
    "#Switching price to log_price\n",
    "\n",
    "\n",
    "#Dropping missing values in living_area and price\n",
    "df_selection = df_selection.dropna(subset=[\"living_area\", \"price\"])\n",
    "df_selection['log_price'] = df_selection['price'].apply(np.log10)\n",
    "df_selection = df_selection.drop(columns = ['price'])\n",
    "#Fill missing values in swimming_pool with zeros.\n",
    "df_selection[\"swimming_pool\"] = df_selection[\"swimming_pool\"].fillna(0)\n",
    "\n",
    "\n",
    "df_municipality = pd.get_dummies(df_selection[['municipality']])\n",
    "df_province = pd.get_dummies(df_selection[['province']])\n",
    "\n",
    "X = pd.concat([df_selection[[\"living_area\",       \n",
    "    \"terrace\",             \n",
    "    \"garden\",              \n",
    "    \"swimming_pool\",       \n",
    "    \"energy_class\"]], df_municipality, df_province], axis=1)\n",
    "y = df_selection['log_price']\n",
    "\n",
    "X_train, X_test, y_train, y_test = train_test_split(X, y, test_size = 0.1)\n",
    "\n",
    "regr = linear_model.LinearRegression()\n",
    "regr.fit(X_train, y_train)\n",
    "\n",
    "y_pred = regr.predict(X_test)\n",
    "\n",
    "y_pred_full = 10**y_pred\n",
    "y_test_full = 10**y_test\n",
    "\n",
    "df_preds = pd.DataFrame({'Actual': y_test_full.squeeze(), 'Predicted': y_pred_full.squeeze()})\n",
    "print(df_preds)\n",
    "\n"
   ]
  },
  {
   "cell_type": "code",
   "execution_count": 28,
   "metadata": {},
   "outputs": [
    {
     "name": "stdout",
     "output_type": "stream",
     "text": [
      "R²: 0.23234634121502784\n"
     ]
    }
   ],
   "source": [
    "from sklearn import metrics\n",
    "\n",
    "print('R²:', metrics.r2_score(y_test, y_pred))"
   ]
  }
 ],
 "metadata": {
  "kernelspec": {
   "display_name": "venv",
   "language": "python",
   "name": "python3"
  },
  "language_info": {
   "codemirror_mode": {
    "name": "ipython",
    "version": 3
   },
   "file_extension": ".py",
   "mimetype": "text/x-python",
   "name": "python",
   "nbconvert_exporter": "python",
   "pygments_lexer": "ipython3",
   "version": "3.10.6"
  },
  "orig_nbformat": 4
 },
 "nbformat": 4,
 "nbformat_minor": 2
}
