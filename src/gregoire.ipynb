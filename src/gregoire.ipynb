{
 "cells": [
  {
   "cell_type": "code",
   "execution_count": 5,
   "metadata": {},
   "outputs": [
    {
     "name": "stdout",
     "output_type": "stream",
     "text": [
      "price               0\n",
      "living_area         0\n",
      "building_type       0\n",
      "building_subtype    0\n",
      "terrace             0\n",
      "garden              0\n",
      "swimming_pool       0\n",
      "energy_class        0\n",
      "dtype: int64\n",
      "      price  living_area building_type building_subtype  terrace  garden  \\\n",
      "0  730000.0        212.0     apartment        apartment      0.0     0.0   \n",
      "1  775000.0        258.0     apartment             loft      0.0     0.0   \n",
      "2   99000.0         94.0     apartment        apartment      0.0     0.0   \n",
      "3  730000.0        212.0     apartment        apartment      0.0     0.0   \n",
      "4  219000.0        111.0     apartment        apartment      0.0   200.0   \n",
      "\n",
      "   swimming_pool  energy_class  \n",
      "0            0.0           2.0  \n",
      "1            0.0           7.0  \n",
      "2            0.0           3.0  \n",
      "3            0.0           2.0  \n",
      "4            0.0           6.0  \n"
     ]
    }
   ],
   "source": [
    "import numpy as np\n",
    "import pandas as pd\n",
    "import matplotlib.pyplot as plt\n",
    "from sklearn import linear_model\n",
    "# importer\n",
    "df =pd.read_csv(\"../data/cleaned_data.csv\")\n",
    "# Selecting parameters to train our price prediction on\n",
    "df_selection = df[[ \n",
    "\"price\",              \n",
    "\"living_area\",\n",
    "\"building_type\",       \n",
    "\"building_subtype\",          \n",
    "\"terrace\",             \n",
    "\"garden\",              \n",
    "\"swimming_pool\",       \n",
    "\"energy_class\"]]\n",
    "#Switching price to log_price\n",
    "df_selection['log_price'] = df_selection['price'].apply(np.log)\n",
    "\n",
    "#Dropping missing values in living_area and price\n",
    "df_selection = df_selection.dropna(subset=[\"living_area\", \"price\"])\n",
    "\n",
    "#replace swimming_pool None with 0\n",
    "df_selection[\"swimming_pool\"] = df_selection[\"swimming_pool\"].fillna(0)\n"
   ]
  }
 ],
 "metadata": {
  "kernelspec": {
   "display_name": "venv",
   "language": "python",
   "name": "python3"
  },
  "language_info": {
   "codemirror_mode": {
    "name": "ipython",
    "version": 3
   },
   "file_extension": ".py",
   "mimetype": "text/x-python",
   "name": "python",
   "nbconvert_exporter": "python",
   "pygments_lexer": "ipython3",
   "version": "3.10.6"
  },
  "orig_nbformat": 4
 },
 "nbformat": 4,
 "nbformat_minor": 2
}
