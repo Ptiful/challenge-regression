{
 "cells": [
  {
   "cell_type": "code",
   "execution_count": 9,
   "metadata": {},
   "outputs": [
    {
     "name": "stdout",
     "output_type": "stream",
     "text": [
      "         Actual     Predicted\n",
      "1232   185000.0  2.069097e+05\n",
      "4421   995000.0  7.879369e+05\n",
      "36     795000.0  1.177283e+06\n",
      "4208   469000.0  3.874654e+05\n",
      "5796  2300000.0  1.974842e+06\n",
      "...         ...           ...\n",
      "2356   230000.0  2.365502e+05\n",
      "6561   230000.0  2.256790e+05\n",
      "3207   495000.0  2.710124e+05\n",
      "526    255000.0  2.347042e+05\n",
      "2243   295000.0  3.629208e+05\n",
      "\n",
      "[1645 rows x 2 columns]\n"
     ]
    }
   ],
   "source": [
    "import numpy as np\n",
    "import pandas as pd\n",
    "import matplotlib.pyplot as plt\n",
    "from sklearn import linear_model\n",
    "from sklearn.model_selection import train_test_split\n",
    "\n",
    "\n",
    "df = pd.read_csv(\"../data/cleaned_data_HELLOIMGREGOIRE_test.csv\")\n",
    "# Selecting parameters to train our price prediction on\n",
    "df_selection = df[\n",
    "    [\n",
    "        \"price\",\n",
    "        \"living_area\",\n",
    "        \"building_type\",\n",
    "        \"terrace\",\n",
    "        \"garden\",\n",
    "        \"swimming_pool\",\n",
    "        \"energy_class\",\n",
    "        \"municipality\",\n",
    "    ]\n",
    "]\n",
    "\n",
    "# df_selection = df_selection.replace([\"apartment\", \"house\"], [0, 1])\n",
    "# Switching price to log_price\n",
    "\n",
    "\n",
    "# Dropping missing values in living_area and price\n",
    "df_selection = df_selection.dropna(subset=[\"living_area\", \"price\"])\n",
    "df_selection[\"log_price\"] = df_selection[\"price\"].apply(np.log10)\n",
    "df_selection = df_selection.drop(columns=[\"price\"])\n",
    "# Fill missing values in swimming_pool with zeros.\n",
    "df_selection[\"swimming_pool\"] = df_selection[\"swimming_pool\"].fillna(0)\n",
    "\n",
    "\n",
    "df_municipality = pd.get_dummies(df_selection[[\"municipality\"]])\n",
    "\n",
    "\n",
    "X = pd.concat(\n",
    "    [\n",
    "        df_selection[\n",
    "            [\"living_area\", \"terrace\", \"garden\", \"swimming_pool\", \"energy_class\"]\n",
    "        ],\n",
    "        df_municipality,\n",
    "\n",
    "    ],\n",
    "    axis=1,\n",
    ")\n",
    "y = df_selection[\"log_price\"]\n",
    "\n",
    "X_train, X_test, y_train, y_test = train_test_split(X, y, test_size = 0.1)\n",
    "X_train, X_test, y_train, y_test = train_test_split(X, y, test_size=0.2)\n",
    "\n",
    "regr = linear_model.LinearRegression()\n",
    "regr.fit(X_train, y_train)\n",
    "\n",
    "y_pred = regr.predict(X_test)\n",
    "\n",
    "y_pred_full = 10**y_pred\n",
    "y_test_full = 10**y_test\n",
    "\n",
    "df_preds = pd.DataFrame(\n",
    "    {\"Actual\": y_test_full.squeeze(), \"Predicted\": y_pred_full.squeeze()}\n",
    ")\n",
    "print(df_preds)"
   ]
  },
  {
   "cell_type": "code",
   "execution_count": 10,
   "metadata": {},
   "outputs": [
    {
     "name": "stdout",
     "output_type": "stream",
     "text": [
      "R²: 0.7270621251247988\n"
     ]
    }
   ],
   "source": [
    "from sklearn import metrics\n",
    "\n",
    "print(\"R²:\", metrics.r2_score(y_test, y_pred))"
   ]
  }
 ],
 "metadata": {
  "kernelspec": {
   "display_name": "venv",
   "language": "python",
   "name": "python3"
  },
  "language_info": {
   "codemirror_mode": {
    "name": "ipython",
    "version": 3
   },
   "file_extension": ".py",
   "mimetype": "text/x-python",
   "name": "python",
   "nbconvert_exporter": "python",
   "pygments_lexer": "ipython3",
   "version": "3.10.6"
  },
  "orig_nbformat": 4
 },
 "nbformat": 4,
 "nbformat_minor": 2
}
